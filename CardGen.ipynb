{
 "cells": [
  {
   "cell_type": "code",
   "execution_count": 9,
   "metadata": {},
   "outputs": [],
   "source": [
    "import numpy as np\n",
    "from keras.models import Sequential\n",
    "from keras.layers import Dense\n",
    "from keras.layers import Dropout\n",
    "from keras.layers import LSTM\n",
    "from keras.layers import TimeDistributed\n",
    "from keras.layers import Activation\n",
    "from keras.callbacks import ModelCheckpoint\n",
    "from keras.utils import np_utils\n",
    "from keras.models import load_model\n",
    "import pickle"
   ]
  },
  {
   "cell_type": "code",
   "execution_count": 10,
   "metadata": {},
   "outputs": [],
   "source": [
    "def generate_text(model, length, ixtochars):\n",
    "    \n",
    "    hele_tekst = []\n",
    "    \n",
    "    ix = [np.random.randint(NUMBER_FEATURES)]\n",
    "    y_char = [ixtochars[ix[-1]]]\n",
    "    X = np.zeros((1, length, NUMBER_FEATURES))\n",
    "    for i in range(length):\n",
    "        X[0, i, :][ix[-1]] = 1\n",
    "        print(ixtochars[ix[-1]], end=\"\")\n",
    "        ix = np.argmax(model.predict(X[:, :i+1, :])[0], 1)\n",
    "        hele_tekst.append(ixtochars[ix[-1]])\n",
    "    return hele_tekst"
   ]
  },
  {
   "cell_type": "code",
   "execution_count": 11,
   "metadata": {},
   "outputs": [],
   "source": [
    "cardtext_model = load_model(\"models/cardtext_1460epochs.h5\")\n",
    "with open('char_mappings_cardtext/ixtochar.pkl', 'rb') as handle:\n",
    "    cardtext_ix_to_char = pickle.load(handle)"
   ]
  },
  {
   "cell_type": "code",
   "execution_count": 8,
   "metadata": {},
   "outputs": [
    {
     "data": {
      "text/plain": [
       "{0: ' ',\n",
       " 1: '!',\n",
       " 2: '\"',\n",
       " 3: '#',\n",
       " 4: '$',\n",
       " 5: '%',\n",
       " 6: \"'\",\n",
       " 7: '(',\n",
       " 8: ')',\n",
       " 9: '+',\n",
       " 10: ',',\n",
       " 11: '-',\n",
       " 12: '.',\n",
       " 13: '/',\n",
       " 14: '0',\n",
       " 15: '1',\n",
       " 16: '2',\n",
       " 17: '3',\n",
       " 18: '4',\n",
       " 19: '5',\n",
       " 20: '6',\n",
       " 21: '7',\n",
       " 22: '8',\n",
       " 23: '9',\n",
       " 24: ':',\n",
       " 25: ';',\n",
       " 26: '<',\n",
       " 27: '>',\n",
       " 28: 'A',\n",
       " 29: 'B',\n",
       " 30: 'C',\n",
       " 31: 'D',\n",
       " 32: 'E',\n",
       " 33: 'F',\n",
       " 34: 'G',\n",
       " 35: 'H',\n",
       " 36: 'I',\n",
       " 37: 'J',\n",
       " 38: 'K',\n",
       " 39: 'L',\n",
       " 40: 'M',\n",
       " 41: 'N',\n",
       " 42: 'O',\n",
       " 43: 'P',\n",
       " 44: 'Q',\n",
       " 45: 'R',\n",
       " 46: 'S',\n",
       " 47: 'T',\n",
       " 48: 'U',\n",
       " 49: 'V',\n",
       " 50: 'W',\n",
       " 51: 'Y',\n",
       " 52: '[',\n",
       " 53: '\\\\',\n",
       " 54: ']',\n",
       " 55: '_',\n",
       " 56: 'a',\n",
       " 57: 'b',\n",
       " 58: 'c',\n",
       " 59: 'd',\n",
       " 60: 'e',\n",
       " 61: 'f',\n",
       " 62: 'g',\n",
       " 63: 'h',\n",
       " 64: 'i',\n",
       " 65: 'j',\n",
       " 66: 'k',\n",
       " 67: 'l',\n",
       " 68: 'm',\n",
       " 69: 'n',\n",
       " 70: 'o',\n",
       " 71: 'p',\n",
       " 72: 'q',\n",
       " 73: 'r',\n",
       " 74: 's',\n",
       " 75: 't',\n",
       " 76: 'u',\n",
       " 77: 'v',\n",
       " 78: 'w',\n",
       " 79: 'x',\n",
       " 80: 'y',\n",
       " 81: 'z',\n",
       " 82: '’'}"
      ]
     },
     "execution_count": 8,
     "metadata": {},
     "output_type": "execute_result"
    }
   ],
   "source": [
    "cardtext_ix_to_char"
   ]
  },
  {
   "cell_type": "code",
   "execution_count": 4,
   "metadata": {},
   "outputs": [
    {
     "data": {
      "text/plain": [
       "83"
      ]
     },
     "execution_count": 4,
     "metadata": {},
     "output_type": "execute_result"
    }
   ],
   "source": [
    "NUMBER_FEATURES = len(cardtext_ix_to_char)\n",
    "NUMBER_FEATURES"
   ]
  },
  {
   "cell_type": "code",
   "execution_count": 7,
   "metadata": {},
   "outputs": [
    {
     "name": "stdout",
     "output_type": "stream",
     "text": [
      "d a Coin to your hand.Deal $4 damage to a minion. If a minion is <b>Freeze</b>, destroy it.<b>Choose One -</b> Draw a card; or Restore 5 Health to the enemy hero.<b>Battlecry:</b> Destroy your opponen\n",
      "----\n",
      "\n",
      "9/b> Discard two random cards.<b>Battlecry:</b> Summon 2 copies of it.<b>Battlecry:</b> If a random enemy minion with 3 or less Attack.Whenever you summon a Beast, reduce the Cost of this card by (1).\n",
      "----\n",
      "\n",
      ":</b> Give a friendly Mech +4 Health.Whenever a friendly minion dies while this is in your hand, transform it into a new weapon.<b>Battlecry:</b> Destroy an enemy <b>Secret</b>.Double the damage and h\n",
      "----\n",
      "\n",
      "Lis attacks.[x]<b>Taunt</b>\\n<b>Battlecry:</b> Deal 2 damage to your hero.<b>Taunt</b><b>Combo:</b> Return a fiiver its into your deck.\\nIt keeps any\\nenchantments.Each turn that died this game. Summo\n",
      "----\n",
      "\n",
      "! Restore 5 Health to the enemy hero.<b>Battlecry:</b> Destroy your opponent's weapon.<b>Deathrattle:</b> At the end\\n of your turn, gain +2/+2.<b>Battlecry:</b> Gain +1/+1 for each <b>Battlecry:</b> \n",
      "----\n",
      "\n",
      "friendly minion loses_<b>Divine Shield</b>, gain +2 Attack.Give a minion +2/+3. Give a minion +2/+2. Gains a bonus effect in_your hand.Destroy a minion.\\nYour opponent draws a card, gain +1/+1.[x]<b>R\n",
      "----\n",
      "\n",
      "x]<b>Battlecry:</b> The next Murloc\\nyou play this turn costs (0).<b>Battlecry:</b> Draw a card.Whenever you cast a spell, gain Armor, Add a random Beast to your hand.\"Summon a <b>Jade Golem</b>. Gain\n",
      "----\n",
      "\n",
      "1/+1.Your other Murlocs have +1 Attack.<b>Battlecry:</b> Destroy a Pirate and gain +2/+2.<b>Battlecry:</b> Deal 3 damage to all enemy minions. <b>Overload:</b> (2)Give a minion \"<b>Deathrattle:</b> Gi\n",
      "----\n",
      "\n",
      ":</b> Give a friendly Mech +4 Health.Whenever a friendly minion dies while this is in your hand, transform it into a new weapon.<b>Battlecry:</b> Destroy an enemy <b>Secret</b>.Double the damage and h\n",
      "----\n",
      "\n",
      "Kon a 3/3 Bear with <b>Taunt</b>.Force an enemy minion to damege this turn. If yours hand is empty, deal 2 damage to a random enemy.<b>Battlecry:</b> Deal damage equal to this minion's Attack to 4.<b>\n",
      "----\n",
      "\n"
     ]
    }
   ],
   "source": [
    "for i in range(10):\n",
    "    generate_text(cardtext_model, 200, cardtext_ix_to_char)\n",
    "    print('\\n----\\n')"
   ]
  },
  {
   "cell_type": "code",
   "execution_count": null,
   "metadata": {},
   "outputs": [],
   "source": []
  }
 ],
 "metadata": {
  "kernelspec": {
   "display_name": "Python 3",
   "language": "python",
   "name": "python3"
  },
  "language_info": {
   "codemirror_mode": {
    "name": "ipython",
    "version": 3
   },
   "file_extension": ".py",
   "mimetype": "text/x-python",
   "name": "python",
   "nbconvert_exporter": "python",
   "pygments_lexer": "ipython3",
   "version": "3.6.1"
  }
 },
 "nbformat": 4,
 "nbformat_minor": 2
}
