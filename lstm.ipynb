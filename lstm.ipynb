{
 "cells": [
  {
   "cell_type": "code",
   "execution_count": 3,
   "metadata": {},
   "outputs": [],
   "source": [
    "api_key = \"hh8DW29tdDmshbghN71NJPI0jgFzp1Ay5MzjsniIz9a8Piq7xp\""
   ]
  },
  {
   "cell_type": "markdown",
   "metadata": {},
   "source": [
    "### Making the API request for all cards"
   ]
  },
  {
   "cell_type": "code",
   "execution_count": 4,
   "metadata": {},
   "outputs": [],
   "source": [
    "import requests\n",
    "headers = {'X-Mashape-Key': api_key}"
   ]
  },
  {
   "cell_type": "code",
   "execution_count": 5,
   "metadata": {},
   "outputs": [],
   "source": [
    "# cardname = \"Leeroy\""
   ]
  },
  {
   "cell_type": "code",
   "execution_count": 6,
   "metadata": {},
   "outputs": [],
   "source": [
    "# endpoint_one_card = f\"https://omgvamp-hearthstone-v1.p.mashape.com/cards/search/{cardname}\"\n",
    "# endpoint_allcards = \"https://omgvamp-hearthstone-v1.p.mashape.com/cards\"\n",
    "\n",
    "def get_cards_by_type(card_type, collectible=1, cost=None, durability=None, health=None, key=api_key):\n",
    "    endpoint_by_type = f'https://omgvamp-hearthstone-v1.p.mashape.com/cards/types/{card_type}'\n",
    "    payload = {'collectible': collectible, 'cost': cost, 'durability': durability, 'health': health}\n",
    "    r = requests.get(endpoint_by_type, params=payload, headers=headers)\n",
    "    return r.json()"
   ]
  },
  {
   "cell_type": "code",
   "execution_count": 7,
   "metadata": {},
   "outputs": [],
   "source": [
    "# r = requests.get(endpoint_allcards, headers=headers)"
   ]
  },
  {
   "cell_type": "code",
   "execution_count": 8,
   "metadata": {},
   "outputs": [],
   "source": [
    "# r.json()"
   ]
  },
  {
   "cell_type": "code",
   "execution_count": 9,
   "metadata": {},
   "outputs": [],
   "source": [
    "import json\n",
    "# with open('hs_data.json', 'w') as outfile:\n",
    "#     json.dump(r.json(), outfile)"
   ]
  },
  {
   "cell_type": "markdown",
   "metadata": {},
   "source": [
    "### Using the offline JSON"
   ]
  },
  {
   "cell_type": "code",
   "execution_count": 8,
   "metadata": {},
   "outputs": [],
   "source": [
    "import pandas as pd"
   ]
  },
  {
   "cell_type": "code",
   "execution_count": 33,
   "metadata": {},
   "outputs": [],
   "source": [
    "# Reading the json as a dict\n",
    "with open('hs_data.json') as json_data:\n",
    "    data = json.load(json_data)"
   ]
  },
  {
   "cell_type": "code",
   "execution_count": 37,
   "metadata": {},
   "outputs": [],
   "source": [
    "everything = [single_card for cardset in data.values() for single_card in cardset]"
   ]
  },
  {
   "cell_type": "code",
   "execution_count": 39,
   "metadata": {},
   "outputs": [],
   "source": [
    "collectibles = [single_card for single_card in everything \n",
    "                if 'collectible' in single_card \n",
    "                and single_card['collectible']]"
   ]
  },
  {
   "cell_type": "code",
   "execution_count": 41,
   "metadata": {},
   "outputs": [],
   "source": [
    "non_heroes = [single_card for single_card in collectibles\n",
    "              if single_card['type'] != 'Hero']"
   ]
  },
  {
   "cell_type": "code",
   "execution_count": 53,
   "metadata": {},
   "outputs": [
    {
     "data": {
      "text/plain": [
       "{'Minion', 'Spell', 'Weapon'}"
      ]
     },
     "execution_count": 53,
     "metadata": {},
     "output_type": "execute_result"
    }
   ],
   "source": [
    "all_types = set([card['type'] for card in non_heroes])\n",
    "all_types"
   ]
  },
  {
   "cell_type": "markdown",
   "metadata": {},
   "source": [
    "### Otherwise, first separate the cards by type. We can make API calls for that."
   ]
  },
  {
   "cell_type": "code",
   "execution_count": 11,
   "metadata": {},
   "outputs": [],
   "source": [
    "collectible_spells = get_cards_by_type('Spell')\n",
    "collectible_weapons = get_cards_by_type('Weapon')\n",
    "collectible_minions = get_cards_by_type('Minion')"
   ]
  },
  {
   "cell_type": "code",
   "execution_count": 12,
   "metadata": {},
   "outputs": [],
   "source": [
    "minions = collectible_minions\n",
    "weapons = collectible_weapons\n",
    "spells = collectible_spells"
   ]
  },
  {
   "cell_type": "code",
   "execution_count": 13,
   "metadata": {},
   "outputs": [],
   "source": [
    "# for cardtype, collection in zip(['minions', 'spells', 'weapons'], [collectible_minions, collectible_spells, collectible_weapons]):\n",
    "#     with open(f'{cardtype}.json', 'w') as outfile:\n",
    "#         json.dump(collection, outfile)"
   ]
  },
  {
   "cell_type": "code",
   "execution_count": 10,
   "metadata": {},
   "outputs": [
    {
     "ename": "FileNotFoundError",
     "evalue": "[Errno 2] No such file or directory: 'minions.json'",
     "output_type": "error",
     "traceback": [
      "\u001b[0;31m---------------------------------------------------------------------------\u001b[0m",
      "\u001b[0;31mFileNotFoundError\u001b[0m                         Traceback (most recent call last)",
      "\u001b[0;32m<ipython-input-10-b640bbbcaef3>\u001b[0m in \u001b[0;36m<module>\u001b[0;34m()\u001b[0m\n\u001b[1;32m      1\u001b[0m \u001b[0;31m# Reading the json as a dict\u001b[0m\u001b[0;34m\u001b[0m\u001b[0;34m\u001b[0m\u001b[0m\n\u001b[0;32m----> 2\u001b[0;31m \u001b[0;32mwith\u001b[0m \u001b[0mopen\u001b[0m\u001b[0;34m(\u001b[0m\u001b[0;34m'minions.json'\u001b[0m\u001b[0;34m)\u001b[0m \u001b[0;32mas\u001b[0m \u001b[0mjson_data\u001b[0m\u001b[0;34m:\u001b[0m\u001b[0;34m\u001b[0m\u001b[0m\n\u001b[0m\u001b[1;32m      3\u001b[0m     \u001b[0mminions\u001b[0m \u001b[0;34m=\u001b[0m \u001b[0mjson\u001b[0m\u001b[0;34m.\u001b[0m\u001b[0mload\u001b[0m\u001b[0;34m(\u001b[0m\u001b[0mjson_data\u001b[0m\u001b[0;34m)\u001b[0m\u001b[0;34m\u001b[0m\u001b[0m\n\u001b[1;32m      4\u001b[0m \u001b[0;34m\u001b[0m\u001b[0m\n\u001b[1;32m      5\u001b[0m \u001b[0;32mwith\u001b[0m \u001b[0mopen\u001b[0m\u001b[0;34m(\u001b[0m\u001b[0;34m'spells.json'\u001b[0m\u001b[0;34m)\u001b[0m \u001b[0;32mas\u001b[0m \u001b[0mjson_data\u001b[0m\u001b[0;34m:\u001b[0m\u001b[0;34m\u001b[0m\u001b[0m\n",
      "\u001b[0;31mFileNotFoundError\u001b[0m: [Errno 2] No such file or directory: 'minions.json'"
     ]
    }
   ],
   "source": [
    "# Reading the json as a dict\n",
    "with open('minions.json') as json_data:\n",
    "    minions = json.load(json_data)\n",
    "    \n",
    "with open('spells.json') as json_data:\n",
    "    spells = json.load(json_data)\n",
    "    \n",
    "with open('weapons.json') as json_data:\n",
    "    weapons = json.load(json_data)"
   ]
  },
  {
   "cell_type": "markdown",
   "metadata": {},
   "source": [
    "### Let's now separate the titles, flavors, texts, mechanics, costs and stats.\n",
    "#### Each card type has different attributes and design logic behind them, so we want to make educated splits. Moreover, not all fields are of interest for us for now. "
   ]
  },
  {
   "cell_type": "code",
   "execution_count": 13,
   "metadata": {},
   "outputs": [],
   "source": [
    "spell_attributes = {\"name\", \"cardId\", \"cost\", \"img\", \"playerClass\", \"rarity\", \"text\", \"flavor\", \"mechanics\"}\n",
    "# spell_optional_attributes = {}\n",
    "\n",
    "minion_attributes = {\"name\", \"cardId\", \"cost\", \"health\", \"attack\", \"img\", \"playerClass\", \"rarity\", \"text\", \"flavor\", \"mechanics\"}\n",
    "# minion_optional_attributes = {}\n",
    "\n",
    "weapon_attributes = {\"name\", \"cardId\", \"cost\", \"durability\", \"attack\", \"img\", \"playerClass\", \"rarity\", \"text\", \"flavor\", \"mechanics\"}\n",
    "# weapon_attributes = {}"
   ]
  },
  {
   "cell_type": "markdown",
   "metadata": {},
   "source": [
    "### For this first generation example we shall funnel all the cards to the above attributes to normalize the data."
   ]
  },
  {
   "cell_type": "code",
   "execution_count": 14,
   "metadata": {},
   "outputs": [],
   "source": [
    "def normalize_card(card, attrs):\n",
    "    \n",
    "    concise = {a: card[a] if a in card else None for a in attrs}\n",
    "    \n",
    "    return concise"
   ]
  },
  {
   "cell_type": "code",
   "execution_count": 15,
   "metadata": {},
   "outputs": [],
   "source": [
    "spells_concise = [normalize_card(spell_card, spell_attributes) for spell_card in spells]\n",
    "minions_concise = [normalize_card(minion_card, minion_attributes) for minion_card in minions]\n",
    "weapons_concise = [normalize_card(weapon_card, weapon_attributes) for weapon_card in weapons]"
   ]
  },
  {
   "cell_type": "code",
   "execution_count": 16,
   "metadata": {},
   "outputs": [
    {
     "data": {
      "text/plain": [
       "[{'cardId': 'CS2_041',\n",
       "  'cost': 0,\n",
       "  'flavor': 'I personally prefer some non-ancestral right-the-heck-now healing, but maybe that is just me.',\n",
       "  'img': 'http://media.services.zam.com/v1/media/byName/hs/cards/enus/CS2_041.png',\n",
       "  'mechanics': [{'name': 'Taunt'}],\n",
       "  'name': 'Ancestral Healing',\n",
       "  'playerClass': 'Shaman',\n",
       "  'rarity': 'Free',\n",
       "  'text': 'Restore a minion\\\\nto full Health and\\\\ngive it <b>Taunt</b>.'},\n",
       " {'cardId': 'CS2_072',\n",
       "  'cost': 0,\n",
       "  'flavor': 'It\\'s funny how often yelling \"Look over there!\" gets your opponent to turn around.',\n",
       "  'img': 'http://media.services.zam.com/v1/media/byName/hs/cards/enus/CS2_072.png',\n",
       "  'mechanics': None,\n",
       "  'name': 'Backstab',\n",
       "  'playerClass': 'Rogue',\n",
       "  'rarity': 'Free',\n",
       "  'text': 'Deal $2 damage to an undamaged minion.'}]"
      ]
     },
     "execution_count": 16,
     "metadata": {},
     "output_type": "execute_result"
    }
   ],
   "source": [
    "spells_concise[:2]"
   ]
  },
  {
   "cell_type": "code",
   "execution_count": 17,
   "metadata": {},
   "outputs": [],
   "source": [
    "# titles = [(card['name'], card['cardId']) for card in non_heroes]\n",
    "# flavors = [(card['flavor'], card['cardId']) for card in non_heroes]\n",
    "# texts = [(card['text'], card['cardId']) for card in non_heroes]\n",
    "# mechanics = [(card['mechanics'], card['cardId']) if 'mechanics' in card else None for card in non_heroes]\n",
    "# costs = [(card['cost'], card['cardId']) for card in non_heroes]\n",
    "# stats = [(card['name'], card['cardId']) for card in non_heroes]"
   ]
  },
  {
   "cell_type": "markdown",
   "metadata": {},
   "source": [
    "### The data is now quite ready to be modelled! We can now access the needed fields directly from the correpsonding cardtype set."
   ]
  },
  {
   "cell_type": "markdown",
   "metadata": {},
   "source": [
    "## A small LSTM"
   ]
  },
  {
   "cell_type": "code",
   "execution_count": 18,
   "metadata": {},
   "outputs": [
    {
     "name": "stderr",
     "output_type": "stream",
     "text": [
      "/Users/markberger/anaconda/lib/python3.6/site-packages/h5py/__init__.py:34: FutureWarning: Conversion of the second argument of issubdtype from `float` to `np.floating` is deprecated. In future, it will be treated as `np.float64 == np.dtype(float).type`.\n",
      "  from ._conv import register_converters as _register_converters\n",
      "Using TensorFlow backend.\n"
     ]
    }
   ],
   "source": [
    "import numpy as np\n",
    "from keras.models import Sequential\n",
    "from keras.layers import Dense\n",
    "from keras.layers import Dropout\n",
    "from keras.layers import LSTM\n",
    "from keras.callbacks import ModelCheckpoint\n",
    "from keras.utils import np_utils"
   ]
  },
  {
   "cell_type": "markdown",
   "metadata": {},
   "source": [
    "### We will first try to generate card flavors, as those resemble normal text the most. For the flavors we can combine all the flavors from all types of cards, as they are mostly just humorous pieces of text and are not directly associated with the type."
   ]
  },
  {
   "cell_type": "code",
   "execution_count": 19,
   "metadata": {},
   "outputs": [],
   "source": [
    "def get_all_flavortexts():\n",
    "    \n",
    "    weapon_flavors = [card['flavor'] for card in weapons]\n",
    "    minion_flavors = [card['flavor'] for card in minions]\n",
    "    spell_flavors = [card['flavor'] for card in spells if 'flavor' in card]\n",
    "    \n",
    "    return weapon_flavors + minion_flavors + spell_flavors"
   ]
  },
  {
   "cell_type": "code",
   "execution_count": 20,
   "metadata": {},
   "outputs": [],
   "source": [
    "all_flavors = get_all_flavortexts()"
   ]
  },
  {
   "cell_type": "code",
   "execution_count": 21,
   "metadata": {},
   "outputs": [
    {
     "data": {
      "text/plain": [
       "'Clockwork gnomes are always asking what time it is.'"
      ]
     },
     "execution_count": 21,
     "metadata": {},
     "output_type": "execute_result"
    }
   ],
   "source": [
    "all_flavors[73]"
   ]
  },
  {
   "cell_type": "markdown",
   "metadata": {},
   "source": [
    "### Our average sequence length is 67.8 characters. This is handy to know for the LSTM sequence length parameter. Let's round it down for sake of memorability."
   ]
  },
  {
   "cell_type": "code",
   "execution_count": 22,
   "metadata": {},
   "outputs": [
    {
     "data": {
      "text/plain": [
       "67.86418193303854"
      ]
     },
     "execution_count": 22,
     "metadata": {},
     "output_type": "execute_result"
    }
   ],
   "source": [
    "average_sequence_length = np.mean([len(list(flavor)) for flavor in all_flavors])\n",
    "average_sequence_length"
   ]
  },
  {
   "cell_type": "code",
   "execution_count": 23,
   "metadata": {},
   "outputs": [],
   "source": [
    "SEQUENCE_LENGTH = 65"
   ]
  },
  {
   "cell_type": "markdown",
   "metadata": {},
   "source": [
    "### Our generative model is a character based one, so our input data is a huge list of characters."
   ]
  },
  {
   "cell_type": "code",
   "execution_count": 24,
   "metadata": {},
   "outputs": [],
   "source": [
    "all_flavor_chars = [ch for one_sentence in all_flavors for ch in list(one_sentence)]"
   ]
  },
  {
   "cell_type": "code",
   "execution_count": 25,
   "metadata": {},
   "outputs": [],
   "source": [
    "all_flavor_unique_chars = set(all_flavor_chars)"
   ]
  },
  {
   "cell_type": "markdown",
   "metadata": {},
   "source": [
    "### We see that there are a lot of unnecessary or unwished characters in the model. We could clean up the model by moderating the char list but for now we let it like this."
   ]
  },
  {
   "cell_type": "code",
   "execution_count": 26,
   "metadata": {},
   "outputs": [
    {
     "name": "stdout",
     "output_type": "stream",
     "text": [
      "Data length: 107429 characters\n",
      "Vocabulary size: 94 characters\n"
     ]
    }
   ],
   "source": [
    "print(f'Data length: {len(all_flavor_chars)} characters')\n",
    "print(f'Vocabulary size: {len(all_flavor_unique_chars)} characters')"
   ]
  },
  {
   "cell_type": "markdown",
   "metadata": {},
   "source": [
    "### The unique characters are the features for our model. Let's numerify them to make them ML ready."
   ]
  },
  {
   "cell_type": "code",
   "execution_count": 27,
   "metadata": {},
   "outputs": [],
   "source": [
    "ix_to_char = {ix:char for ix, char in enumerate(all_flavor_unique_chars)}\n",
    "char_to_ix = {char:ix for ix, char in enumerate(all_flavor_unique_chars)}"
   ]
  },
  {
   "cell_type": "markdown",
   "metadata": {},
   "source": [
    "### LSTM expects input of the shape (batch_size, length_of_sequence, number_features)\n",
    "#### batch_size: amount of sequences which are fed into the network at one time, just as in a regular feedforward neural network\n",
    "#### length_of_sequence: the amount of \"neural networks\", the memory or the amount of steps the network looks at at each step. In our example, we want to predict a character given 65 previous characters.\n",
    "#### number_features: the length of one featurized element. In the case of images it could be padded standardized vectors of pixels. In case of text it is the length of our vocab, because our input is going to be represented by every char in our vocabulary.\n"
   ]
  },
  {
   "cell_type": "code",
   "execution_count": 28,
   "metadata": {},
   "outputs": [],
   "source": [
    "NUMBER_FEATURES = len(all_flavor_unique_chars)"
   ]
  },
  {
   "cell_type": "code",
   "execution_count": 29,
   "metadata": {},
   "outputs": [
    {
     "ename": "TypeError",
     "evalue": "'float' object cannot be interpreted as an integer",
     "output_type": "error",
     "traceback": [
      "\u001b[0;31m---------------------------------------------------------------------------\u001b[0m",
      "\u001b[0;31mTypeError\u001b[0m                                 Traceback (most recent call last)",
      "\u001b[0;32m<ipython-input-29-778f1107a9d3>\u001b[0m in \u001b[0;36m<module>\u001b[0;34m()\u001b[0m\n\u001b[0;32m----> 1\u001b[0;31m \u001b[0mX\u001b[0m \u001b[0;34m=\u001b[0m \u001b[0mnp\u001b[0m\u001b[0;34m.\u001b[0m\u001b[0mzeros\u001b[0m\u001b[0;34m(\u001b[0m\u001b[0;34m(\u001b[0m\u001b[0mlen\u001b[0m\u001b[0;34m(\u001b[0m\u001b[0mall_flavor_chars\u001b[0m\u001b[0;34m)\u001b[0m\u001b[0;34m/\u001b[0m\u001b[0mSEQUENCE_LENGTH\u001b[0m\u001b[0;34m,\u001b[0m \u001b[0mSEQUENCE_LENGTH\u001b[0m\u001b[0;34m,\u001b[0m \u001b[0mNUMBER_FEATURES\u001b[0m\u001b[0;34m)\u001b[0m\u001b[0;34m)\u001b[0m\u001b[0;34m\u001b[0m\u001b[0m\n\u001b[0m\u001b[1;32m      2\u001b[0m \u001b[0my\u001b[0m \u001b[0;34m=\u001b[0m \u001b[0mnp\u001b[0m\u001b[0;34m.\u001b[0m\u001b[0mzeros\u001b[0m\u001b[0;34m(\u001b[0m\u001b[0;34m(\u001b[0m\u001b[0mlen\u001b[0m\u001b[0;34m(\u001b[0m\u001b[0mall_flavor_chars\u001b[0m\u001b[0;34m)\u001b[0m\u001b[0;34m/\u001b[0m\u001b[0mSEQUENCE_LENGTH\u001b[0m\u001b[0;34m,\u001b[0m \u001b[0mSEQUENCE_LENGTH\u001b[0m\u001b[0;34m,\u001b[0m \u001b[0mNUMBER_FEATURES\u001b[0m\u001b[0;34m)\u001b[0m\u001b[0;34m)\u001b[0m\u001b[0;34m\u001b[0m\u001b[0m\n",
      "\u001b[0;31mTypeError\u001b[0m: 'float' object cannot be interpreted as an integer"
     ]
    }
   ],
   "source": [
    "X = np.zeros((len(all_flavor_chars)/SEQUENCE_LENGTH, SEQUENCE_LENGTH, NUMBER_FEATURES))\n",
    "y = np.zeros((len(all_flavor_chars)/SEQUENCE_LENGTH, SEQUENCE_LENGTH, NUMBER_FEATURES))"
   ]
  },
  {
   "cell_type": "code",
   "execution_count": 30,
   "metadata": {},
   "outputs": [
    {
     "data": {
      "text/plain": [
       "107429"
      ]
     },
     "execution_count": 30,
     "metadata": {},
     "output_type": "execute_result"
    }
   ],
   "source": [
    "len(all_flavor_chars)"
   ]
  },
  {
   "cell_type": "code",
   "execution_count": 31,
   "metadata": {},
   "outputs": [
    {
     "data": {
      "text/plain": [
       "65"
      ]
     },
     "execution_count": 31,
     "metadata": {},
     "output_type": "execute_result"
    }
   ],
   "source": [
    "SEQUENCE_LENGTH"
   ]
  },
  {
   "cell_type": "code",
   "execution_count": null,
   "metadata": {},
   "outputs": [],
   "source": []
  }
 ],
 "metadata": {
  "kernelspec": {
   "display_name": "Python 3",
   "language": "python",
   "name": "python3"
  },
  "language_info": {
   "codemirror_mode": {
    "name": "ipython",
    "version": 3
   },
   "file_extension": ".py",
   "mimetype": "text/x-python",
   "name": "python",
   "nbconvert_exporter": "python",
   "pygments_lexer": "ipython3",
   "version": "3.6.1"
  }
 },
 "nbformat": 4,
 "nbformat_minor": 2
}
