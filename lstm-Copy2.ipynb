{
 "cells": [
  {
   "cell_type": "code",
   "execution_count": 1,
   "metadata": {},
   "outputs": [],
   "source": [
    "api_key = \"hh8DW29tdDmshbghN71NJPI0jgFzp1Ay5MzjsniIz9a8Piq7xp\""
   ]
  },
  {
   "cell_type": "markdown",
   "metadata": {},
   "source": [
    "### Making the API request for all cards"
   ]
  },
  {
   "cell_type": "code",
   "execution_count": 2,
   "metadata": {},
   "outputs": [],
   "source": [
    "import requests\n",
    "headers = {'X-Mashape-Key': api_key}"
   ]
  },
  {
   "cell_type": "code",
   "execution_count": 3,
   "metadata": {},
   "outputs": [],
   "source": [
    "# cardname = \"Leeroy\""
   ]
  },
  {
   "cell_type": "code",
   "execution_count": 4,
   "metadata": {},
   "outputs": [],
   "source": [
    "# endpoint_one_card = f\"https://omgvamp-hearthstone-v1.p.mashape.com/cards/search/{cardname}\"\n",
    "# endpoint_allcards = \"https://omgvamp-hearthstone-v1.p.mashape.com/cards\"\n",
    "\n",
    "def get_cards_by_type(card_type, collectible=1, cost=None, durability=None, health=None, key=api_key):\n",
    "    endpoint_by_type = f'https://omgvamp-hearthstone-v1.p.mashape.com/cards/types/{card_type}'\n",
    "    payload = {'collectible': collectible, 'cost': cost, 'durability': durability, 'health': health}\n",
    "    r = requests.get(endpoint_by_type, params=payload, headers=headers)\n",
    "    return r.json()"
   ]
  },
  {
   "cell_type": "code",
   "execution_count": 7,
   "metadata": {},
   "outputs": [],
   "source": [
    "# r = requests.get(endpoint_allcards, headers=headers)"
   ]
  },
  {
   "cell_type": "code",
   "execution_count": 8,
   "metadata": {},
   "outputs": [],
   "source": [
    "# r.json()"
   ]
  },
  {
   "cell_type": "code",
   "execution_count": 1,
   "metadata": {},
   "outputs": [],
   "source": [
    "import json\n",
    "# with open('hs_data.json', 'w') as outfile:\n",
    "#     json.dump(r.json(), outfile)"
   ]
  },
  {
   "cell_type": "markdown",
   "metadata": {},
   "source": [
    "### Using the offline JSON"
   ]
  },
  {
   "cell_type": "code",
   "execution_count": 2,
   "metadata": {},
   "outputs": [],
   "source": [
    "import pandas as pd"
   ]
  },
  {
   "cell_type": "code",
   "execution_count": 33,
   "metadata": {},
   "outputs": [],
   "source": [
    "# Reading the json as a dict\n",
    "with open('hs_data.json') as json_data:\n",
    "    data = json.load(json_data)"
   ]
  },
  {
   "cell_type": "code",
   "execution_count": 37,
   "metadata": {},
   "outputs": [],
   "source": [
    "everything = [single_card for cardset in data.values() for single_card in cardset]"
   ]
  },
  {
   "cell_type": "code",
   "execution_count": 39,
   "metadata": {},
   "outputs": [],
   "source": [
    "collectibles = [single_card for single_card in everything \n",
    "                if 'collectible' in single_card \n",
    "                and single_card['collectible']]"
   ]
  },
  {
   "cell_type": "code",
   "execution_count": 41,
   "metadata": {},
   "outputs": [],
   "source": [
    "non_heroes = [single_card for single_card in collectibles\n",
    "              if single_card['type'] != 'Hero']"
   ]
  },
  {
   "cell_type": "code",
   "execution_count": 53,
   "metadata": {},
   "outputs": [
    {
     "data": {
      "text/plain": [
       "{'Minion', 'Spell', 'Weapon'}"
      ]
     },
     "execution_count": 53,
     "metadata": {},
     "output_type": "execute_result"
    }
   ],
   "source": [
    "all_types = set([card['type'] for card in non_heroes])\n",
    "all_types"
   ]
  },
  {
   "cell_type": "markdown",
   "metadata": {},
   "source": [
    "### Otherwise, first separate the cards by type. We can make API calls for that."
   ]
  },
  {
   "cell_type": "code",
   "execution_count": 11,
   "metadata": {},
   "outputs": [],
   "source": [
    "collectible_spells = get_cards_by_type('Spell')\n",
    "collectible_weapons = get_cards_by_type('Weapon')\n",
    "collectible_minions = get_cards_by_type('Minion')"
   ]
  },
  {
   "cell_type": "code",
   "execution_count": 12,
   "metadata": {},
   "outputs": [],
   "source": [
    "minions = collectible_minions\n",
    "weapons = collectible_weapons\n",
    "spells = collectible_spells"
   ]
  },
  {
   "cell_type": "code",
   "execution_count": 13,
   "metadata": {},
   "outputs": [],
   "source": [
    "# for cardtype, collection in zip(['minions', 'spells', 'weapons'], [collectible_minions, collectible_spells, collectible_weapons]):\n",
    "#     with open(f'{cardtype}.json', 'w') as outfile:\n",
    "#         json.dump(collection, outfile)"
   ]
  },
  {
   "cell_type": "code",
   "execution_count": 3,
   "metadata": {},
   "outputs": [],
   "source": [
    "# Reading the json as a dict\n",
    "with open('data/minions.json') as json_data:\n",
    "    minions = json.load(json_data)\n",
    "    \n",
    "with open('data/spells.json') as json_data:\n",
    "    spells = json.load(json_data)\n",
    "    \n",
    "with open('data/weapons.json') as json_data:\n",
    "    weapons = json.load(json_data)"
   ]
  },
  {
   "cell_type": "markdown",
   "metadata": {},
   "source": [
    "### Let's now separate the titles, flavors, texts, mechanics, costs and stats.\n",
    "#### Each card type has different attributes and design logic behind them, so we want to make educated splits. Moreover, not all fields are of interest for us for now. "
   ]
  },
  {
   "cell_type": "code",
   "execution_count": 4,
   "metadata": {},
   "outputs": [],
   "source": [
    "spell_attributes = {\"name\", \"cardId\", \"cost\", \"img\", \"playerClass\", \"rarity\", \"text\", \"flavor\", \"mechanics\"}\n",
    "# spell_optional_attributes = {}\n",
    "\n",
    "minion_attributes = {\"name\", \"cardId\", \"cost\", \"health\", \"attack\", \"img\", \"playerClass\", \"rarity\", \"text\", \"flavor\", \"mechanics\"}\n",
    "# minion_optional_attributes = {}\n",
    "\n",
    "weapon_attributes = {\"name\", \"cardId\", \"cost\", \"durability\", \"attack\", \"img\", \"playerClass\", \"rarity\", \"text\", \"flavor\", \"mechanics\"}\n",
    "# weapon_attributes = {}"
   ]
  },
  {
   "cell_type": "markdown",
   "metadata": {},
   "source": [
    "### For this first generation example we shall funnel all the cards to the above attributes to normalize the data."
   ]
  },
  {
   "cell_type": "code",
   "execution_count": 5,
   "metadata": {},
   "outputs": [],
   "source": [
    "def normalize_card(card, attrs):\n",
    "    \n",
    "    concise = {a: card[a] if a in card else None for a in attrs}\n",
    "    \n",
    "    return concise"
   ]
  },
  {
   "cell_type": "code",
   "execution_count": 6,
   "metadata": {},
   "outputs": [],
   "source": [
    "spells_concise = [normalize_card(spell_card, spell_attributes) for spell_card in spells]\n",
    "minions_concise = [normalize_card(minion_card, minion_attributes) for minion_card in minions]\n",
    "weapons_concise = [normalize_card(weapon_card, weapon_attributes) for weapon_card in weapons]"
   ]
  },
  {
   "cell_type": "code",
   "execution_count": 7,
   "metadata": {},
   "outputs": [
    {
     "data": {
      "text/plain": [
       "[{'attack': 1,\n",
       "  'cardId': 'LOOT_222',\n",
       "  'cost': 1,\n",
       "  'durability': 3,\n",
       "  'flavor': 'Once called Cahn’delar, Shortbow of the Ancient Whisker.',\n",
       "  'img': 'http://media.services.zam.com/v1/media/byName/hs/cards/enus/LOOT_222.png',\n",
       "  'mechanics': None,\n",
       "  'name': 'Candleshot',\n",
       "  'playerClass': 'Hunter',\n",
       "  'rarity': 'Common',\n",
       "  'text': 'Your hero is <b>Immune</b> while attacking.'},\n",
       " {'attack': 2,\n",
       "  'cardId': 'LOE_118',\n",
       "  'cost': 1,\n",
       "  'durability': 3,\n",
       "  'flavor': 'The Curse is that you have to listen to \"MMMBop\" on repeat.',\n",
       "  'img': 'http://media.services.zam.com/v1/media/byName/hs/cards/enus/LOE_118.png',\n",
       "  'mechanics': None,\n",
       "  'name': 'Cursed Blade',\n",
       "  'playerClass': 'Warrior',\n",
       "  'rarity': 'Rare',\n",
       "  'text': 'Double all damage dealt to your hero.'}]"
      ]
     },
     "execution_count": 7,
     "metadata": {},
     "output_type": "execute_result"
    }
   ],
   "source": [
    "weapons_concise[:2]"
   ]
  },
  {
   "cell_type": "code",
   "execution_count": 8,
   "metadata": {},
   "outputs": [],
   "source": [
    "# titles = [(card['name'], card['cardId']) for card in non_heroes]\n",
    "# flavors = [(card['flavor'], card['cardId']) for card in non_heroes]\n",
    "# texts = [(card['text'], card['cardId']) for card in non_heroes]\n",
    "# mechanics = [(card['mechanics'], card['cardId']) if 'mechanics' in card else None for card in non_heroes]\n",
    "# costs = [(card['cost'], card['cardId']) for card in non_heroes]\n",
    "# stats = [(card['name'], card['cardId']) for card in non_heroes]"
   ]
  },
  {
   "cell_type": "markdown",
   "metadata": {},
   "source": [
    "### The data is now quite ready to be modelled! We can now access the needed fields directly from the correpsonding cardtype set."
   ]
  },
  {
   "cell_type": "markdown",
   "metadata": {},
   "source": [
    "## A small LSTM"
   ]
  },
  {
   "cell_type": "code",
   "execution_count": 9,
   "metadata": {},
   "outputs": [
    {
     "name": "stderr",
     "output_type": "stream",
     "text": [
      "/home/datalab/anaconda3/lib/python3.6/site-packages/h5py/__init__.py:36: FutureWarning: Conversion of the second argument of issubdtype from `float` to `np.floating` is deprecated. In future, it will be treated as `np.float64 == np.dtype(float).type`.\n",
      "  from ._conv import register_converters as _register_converters\n",
      "Using TensorFlow backend.\n"
     ]
    }
   ],
   "source": [
    "import numpy as np\n",
    "from keras.models import Sequential\n",
    "from keras.layers import Dense\n",
    "from keras.layers import Dropout\n",
    "from keras.layers import LSTM\n",
    "from keras.layers import TimeDistributed\n",
    "from keras.layers import Activation\n",
    "from keras.callbacks import ModelCheckpoint\n",
    "from keras.utils import np_utils\n",
    "from keras.models import load_model"
   ]
  },
  {
   "cell_type": "markdown",
   "metadata": {},
   "source": [
    "### Let's get all the card texts."
   ]
  },
  {
   "cell_type": "code",
   "execution_count": 10,
   "metadata": {},
   "outputs": [],
   "source": [
    "def get_all_flavortexts():\n",
    "    \n",
    "    weapon_flavors = [card['flavor'] for card in weapons]\n",
    "    minion_flavors = [card['flavor'] for card in minions]\n",
    "    spell_flavors = [card['flavor'] for card in spells if 'flavor' in card]\n",
    "    \n",
    "    return weapon_flavors + minion_flavors + spell_flavors"
   ]
  },
  {
   "cell_type": "code",
   "execution_count": 11,
   "metadata": {},
   "outputs": [],
   "source": [
    "def get_all_cardtexts():\n",
    "    \n",
    "    weapon_texts = [card['text'] for card in weapons if 'text' in card]\n",
    "    minion_texts = [card['text'] for card in minions if 'text' in card]\n",
    "    spell_texts = [card['text'] for card in spells if 'text' in card]  # THIS WAS FLAVOR, RETRAIN WITH TEXTS! \n",
    "    \n",
    "    return weapon_texts + minion_texts + spell_texts"
   ]
  },
  {
   "cell_type": "code",
   "execution_count": 12,
   "metadata": {},
   "outputs": [],
   "source": [
    "def get_all_nametexts():\n",
    "    \n",
    "    weapon_texts = [card['name'] for card in weapons if 'name' in card]\n",
    "    minion_texts = [card['name'] for card in minions if 'name' in card]\n",
    "    spell_texts = [card['name'] for card in spells if 'name' in card]\n",
    "    \n",
    "    return weapon_texts + minion_texts + spell_texts"
   ]
  },
  {
   "cell_type": "code",
   "execution_count": 13,
   "metadata": {},
   "outputs": [],
   "source": [
    "# all_flavors = get_all_flavortexts()\n",
    "# all_texts = get_all_cardtexts()\n",
    "all_names = get_all_nametexts()"
   ]
  },
  {
   "cell_type": "markdown",
   "metadata": {},
   "source": [
    "### Our average sequence length is 67.8 characters. This is handy to know for the LSTM sequence length parameter. Let's round it down for sake of memorability."
   ]
  },
  {
   "cell_type": "code",
   "execution_count": 14,
   "metadata": {},
   "outputs": [
    {
     "data": {
      "text/plain": [
       "14.009469696969697"
      ]
     },
     "execution_count": 14,
     "metadata": {},
     "output_type": "execute_result"
    }
   ],
   "source": [
    "average_sequence_length = np.mean([len(list(text)) for text in all_names])\n",
    "average_sequence_length"
   ]
  },
  {
   "cell_type": "code",
   "execution_count": 15,
   "metadata": {},
   "outputs": [],
   "source": [
    "SEQUENCE_LENGTH = 14"
   ]
  },
  {
   "cell_type": "markdown",
   "metadata": {},
   "source": [
    "### Our generative model is a character based one, so our input data is a huge list of characters."
   ]
  },
  {
   "cell_type": "code",
   "execution_count": 16,
   "metadata": {},
   "outputs": [],
   "source": [
    "all_text_chars = [ch for one_sentence in all_names for ch in list(one_sentence)]"
   ]
  },
  {
   "cell_type": "code",
   "execution_count": 17,
   "metadata": {},
   "outputs": [],
   "source": [
    "all_text_unique_chars = list(set(all_text_chars))\n",
    "all_text_unique_chars.sort()"
   ]
  },
  {
   "cell_type": "markdown",
   "metadata": {},
   "source": [
    "### We see that there are a lot of unnecessary or unwished characters in the model. We could clean up the model by moderating the char list but for now we let it like this."
   ]
  },
  {
   "cell_type": "code",
   "execution_count": 18,
   "metadata": {},
   "outputs": [
    {
     "name": "stdout",
     "output_type": "stream",
     "text": [
      "Data length: 22191 characters\n",
      "Vocabulary size: 65 characters\n"
     ]
    }
   ],
   "source": [
    "print(f'Data length: {len(all_text_chars)} characters')\n",
    "print(f'Vocabulary size: {len(all_text_unique_chars)} characters')"
   ]
  },
  {
   "cell_type": "markdown",
   "metadata": {},
   "source": [
    "### The unique characters are the features for our model. Let's numerify them to make them ML ready."
   ]
  },
  {
   "cell_type": "code",
   "execution_count": 19,
   "metadata": {},
   "outputs": [],
   "source": [
    "import pickle"
   ]
  },
  {
   "cell_type": "code",
   "execution_count": 20,
   "metadata": {},
   "outputs": [],
   "source": [
    "ix_to_char = {ix:char for ix, char in enumerate(all_text_unique_chars)}\n",
    "char_to_ix = {char:ix for ix, char in enumerate(all_text_unique_chars)}"
   ]
  },
  {
   "cell_type": "code",
   "execution_count": 22,
   "metadata": {},
   "outputs": [],
   "source": [
    "with open('char_mappings_nametext/ixtochar.pkl', 'wb') as handle:\n",
    "    pickle.dump(ix_to_char, handle, protocol=pickle.HIGHEST_PROTOCOL)"
   ]
  },
  {
   "cell_type": "code",
   "execution_count": 23,
   "metadata": {},
   "outputs": [],
   "source": [
    "with open('char_mappings_nametext/chartoix.pkl', 'wb') as handle:\n",
    "    pickle.dump(char_to_ix, handle, protocol=pickle.HIGHEST_PROTOCOL)"
   ]
  },
  {
   "cell_type": "markdown",
   "metadata": {},
   "source": [
    "### LSTM expects input of the shape (batch_size, length_of_sequence, number_features)\n",
    "#### batch_size: amount of sequences which are fed into the network at one time, just as in a regular feedforward neural network\n",
    "#### length_of_sequence: the amount of \"neural networks\", the memory or the amount of steps the network looks at at each step. In our example, we want to predict a character given 65 previous characters.\n",
    "#### number_features: the length of one featurized element. In the case of images it could be padded standardized vectors of pixels. In case of text it is the length of our vocab, because our input is going to be represented by every char in our vocabulary.\n"
   ]
  },
  {
   "cell_type": "code",
   "execution_count": 24,
   "metadata": {},
   "outputs": [],
   "source": [
    "NUMBER_FEATURES = len(all_text_unique_chars)"
   ]
  },
  {
   "cell_type": "code",
   "execution_count": 25,
   "metadata": {},
   "outputs": [],
   "source": [
    "X = np.zeros((int(len(all_text_chars)/SEQUENCE_LENGTH), SEQUENCE_LENGTH, NUMBER_FEATURES))\n",
    "y = np.zeros((int(len(all_text_chars)/SEQUENCE_LENGTH), SEQUENCE_LENGTH, NUMBER_FEATURES))"
   ]
  },
  {
   "cell_type": "code",
   "execution_count": 26,
   "metadata": {},
   "outputs": [
    {
     "data": {
      "text/plain": [
       "22191"
      ]
     },
     "execution_count": 26,
     "metadata": {},
     "output_type": "execute_result"
    }
   ],
   "source": [
    "len(all_text_chars)"
   ]
  },
  {
   "cell_type": "code",
   "execution_count": 27,
   "metadata": {},
   "outputs": [],
   "source": [
    "for i in range(0, int(len(all_text_chars)/SEQUENCE_LENGTH)):\n",
    "    X_sequence = all_text_chars[i*SEQUENCE_LENGTH:(i+1)*SEQUENCE_LENGTH]  #Get next sequence of length 14 as input.\n",
    "    X_sequence_ix = [char_to_ix[value] for value in X_sequence]  # Convert the above sequence to the integer mapping.\n",
    "    # TODO: make this one hot encoding differently: Keras or sklearn or something.\n",
    "    input_sequence = np.zeros((SEQUENCE_LENGTH, NUMBER_FEATURES))  # Create a skeleton for the input sequence: we create a 2d numpy matrix which has a feature array of 94 \n",
    "                                                                   # long for each of the 57 characters in sequence. This way we basically one hot encode our sequences. \n",
    "    for j in range(SEQUENCE_LENGTH):  # The one hot encoding process: we replace a zero with a one on a position in the input sequence which corresponds with the index of a character in our converted array!\n",
    "        input_sequence[j][X_sequence_ix[j]] = 1.\n",
    "    X[i] = input_sequence\n",
    "    \n",
    "    #Same for y!\n",
    "    y_sequence = all_text_chars[i*SEQUENCE_LENGTH+1:(i+1)*SEQUENCE_LENGTH+1]\n",
    "    y_sequence_ix = [char_to_ix[value] for value in y_sequence]\n",
    "    target_sequence = np.zeros((SEQUENCE_LENGTH, NUMBER_FEATURES))\n",
    "    for j in range(SEQUENCE_LENGTH):\n",
    "        target_sequence[j][y_sequence_ix[j]] = 1.\n",
    "    y[i] = target_sequence"
   ]
  },
  {
   "cell_type": "code",
   "execution_count": 28,
   "metadata": {},
   "outputs": [],
   "source": [
    "\n",
    "# # prepare the dataset of input to output pairs encoded as integers\n",
    "# seq_length = 100\n",
    "# dataX = []\n",
    "# dataY = []\n",
    "# n_chars = len(all_flavor_chars)\n",
    "# for i in range(0, n_chars - SEQUENCE_LENGTH, 1):\n",
    "#     seq_in = all_flavor_chars[i:i + SEQUENCE_LENGTH]\n",
    "#     seq_out = all_flavor_chars[i + SEQUENCE_LENGTH]\n",
    "#     dataX.append([char_to_ix[char] for char in seq_in])\n",
    "#     dataY.append(char_to_ix[seq_out])\n",
    "# n_patterns = len(dataX)\n",
    "# print(\"Total Patterns: \", n_patterns)"
   ]
  },
  {
   "cell_type": "code",
   "execution_count": 29,
   "metadata": {},
   "outputs": [],
   "source": [
    "# X = np.reshape(dataX, (n_patterns, SEQUENCE_LENGTH, 1))"
   ]
  },
  {
   "cell_type": "code",
   "execution_count": 30,
   "metadata": {},
   "outputs": [],
   "source": [
    "# # normalize\n",
    "# X = X / float(len(all_flavor_unique_chars))\n",
    "# # one hot encode the output variable\n",
    "# y = np_utils.to_categorical(dataY)"
   ]
  },
  {
   "cell_type": "code",
   "execution_count": 31,
   "metadata": {},
   "outputs": [],
   "source": [
    "HIDDEN_DIM = 500\n",
    "LAYER_NUM = 3"
   ]
  },
  {
   "cell_type": "code",
   "execution_count": 32,
   "metadata": {},
   "outputs": [
    {
     "name": "stdout",
     "output_type": "stream",
     "text": [
      "WARNING:tensorflow:From /home/datalab/anaconda3/lib/python3.6/site-packages/keras/backend/tensorflow_backend.py:1247: calling reduce_sum (from tensorflow.python.ops.math_ops) with keep_dims is deprecated and will be removed in a future version.\n",
      "Instructions for updating:\n",
      "keep_dims is deprecated, use keepdims instead\n",
      "WARNING:tensorflow:From /home/datalab/anaconda3/lib/python3.6/site-packages/keras/backend/tensorflow_backend.py:1213: calling reduce_max (from tensorflow.python.ops.math_ops) with keep_dims is deprecated and will be removed in a future version.\n",
      "Instructions for updating:\n",
      "keep_dims is deprecated, use keepdims instead\n",
      "WARNING:tensorflow:From /home/datalab/anaconda3/lib/python3.6/site-packages/keras/backend/tensorflow_backend.py:1349: calling reduce_mean (from tensorflow.python.ops.math_ops) with keep_dims is deprecated and will be removed in a future version.\n",
      "Instructions for updating:\n",
      "keep_dims is deprecated, use keepdims instead\n"
     ]
    }
   ],
   "source": [
    "model = Sequential()\n",
    "model.add(LSTM(HIDDEN_DIM, input_shape=(None, NUMBER_FEATURES), return_sequences=True))\n",
    "for i in range(LAYER_NUM - 1):\n",
    "    model.add(LSTM(HIDDEN_DIM, return_sequences=True))\n",
    "    model.add(Dropout(0.25))\n",
    "model.add(TimeDistributed(Dense(NUMBER_FEATURES)))\n",
    "model.add(Activation('softmax'))\n",
    "model.compile(loss=\"categorical_crossentropy\", optimizer=\"rmsprop\")"
   ]
  },
  {
   "cell_type": "code",
   "execution_count": 33,
   "metadata": {},
   "outputs": [],
   "source": [
    "def generate_text(model, length, ixtochars=ix_to_char):\n",
    "    \n",
    "    hele_tekst = []\n",
    "    \n",
    "    ix = [np.random.randint(NUMBER_FEATURES)]\n",
    "    y_char = [ixtochars[ix[-1]]]\n",
    "    X = np.zeros((1, length, NUMBER_FEATURES))\n",
    "    for i in range(length):\n",
    "        X[0, i, :][ix[-1]] = 1\n",
    "        print(ixtochars[ix[-1]], end=\"\")\n",
    "        ix = np.argmax(model.predict(X[:, :i+1, :])[0], 1)\n",
    "        hele_tekst.append(ixtochars[ix[-1]])\n",
    "    return hele_tekst"
   ]
  },
  {
   "cell_type": "code",
   "execution_count": null,
   "metadata": {},
   "outputs": [
    {
     "name": "stdout",
     "output_type": "stream",
     "text": [
      "\n",
      "\n"
     ]
    },
    {
     "name": "stderr",
     "output_type": "stream",
     "text": [
      "/home/datalab/anaconda3/lib/python3.6/site-packages/keras/models.py:939: UserWarning: The `nb_epoch` argument in `fit` has been renamed `epochs`.\n",
      "  warnings.warn('The `nb_epoch` argument in `fit` '\n"
     ]
    },
    {
     "name": "stdout",
     "output_type": "stream",
     "text": [
      "Epoch 1/1\n"
     ]
    }
   ],
   "source": [
    "nb_epoch = 0\n",
    "BATCH_SIZE = 50\n",
    "GENERATE_LENGTH = 70\n",
    "while True:\n",
    "    print('\\n')\n",
    "    model.fit(X, y, batch_size=BATCH_SIZE, verbose=1, nb_epoch=1)\n",
    "    nb_epoch += 1\n",
    "    generate_text(model, GENERATE_LENGTH)\n",
    "    if nb_epoch % 200 == 0:\n",
    "        model.save_weights('nametext_cps/checkpoint_{}_epoch_{}.hdf5'.format(HIDDEN_DIM, nb_epoch))"
   ]
  },
  {
   "cell_type": "code",
   "execution_count": null,
   "metadata": {},
   "outputs": [],
   "source": [
    "nb_epoch"
   ]
  },
  {
   "cell_type": "code",
   "execution_count": 45,
   "metadata": {},
   "outputs": [],
   "source": [
    "model.save(\"models/nametext_1460epochs.h5\")"
   ]
  },
  {
   "cell_type": "code",
   "execution_count": 49,
   "metadata": {},
   "outputs": [],
   "source": [
    "cardtext_model = load_model(\"models/cardtext_1460epochs.h5\")\n",
    "with open('char_mappings_cardtext/ixtochar.pkl', 'rb') as handle:\n",
    "    cardtext_ix_to_char = pickle.load(handle)"
   ]
  },
  {
   "cell_type": "code",
   "execution_count": 33,
   "metadata": {},
   "outputs": [
    {
     "name": "stdout",
     "output_type": "stream",
     "text": [
      "2\n"
     ]
    }
   ],
   "source": [
    "print(2)\n",
    "model.load_weights(\"cardtext_cps/cardtext_checkpoint_500_epoch_1480.hdf5\")"
   ]
  },
  {
   "cell_type": "code",
   "execution_count": 34,
   "metadata": {},
   "outputs": [
    {
     "data": {
      "text/plain": [
       "<keras.models.Sequential at 0x7f65736337f0>"
      ]
     },
     "execution_count": 34,
     "metadata": {},
     "output_type": "execute_result"
    }
   ],
   "source": [
    "model"
   ]
  },
  {
   "cell_type": "code",
   "execution_count": 52,
   "metadata": {},
   "outputs": [
    {
     "name": "stdout",
     "output_type": "stream",
     "text": [
      "'The First Seal' to your hand.<b>Stealth</b><b>Deathrattle:</b> Deal 2 damage to a non-Mech minion.<\n",
      "----\n",
      "\n",
      "One -</b> Transform into a 5/2 minion; or a 2/5 minion.[x]<b>Deathrattle:</b> Summon\\na random frien\n",
      "----\n",
      "\n",
      "\\n<b>Battlecry:</b> Restore 2 Health.Your Hero Power can takes cast this turn.<b>Inspire:</b> Summon\n",
      "----\n",
      "\n",
      "3 Attack.Deal $3 damage to a minion. If that kills it, add a copy of it to your_hand.Draw a card and\n",
      "----\n",
      "\n",
      "Give your Totems +2_Health.Deal $2 damage to a minion. <b>Overload:</b> "
     ]
    },
    {
     "ename": "KeyboardInterrupt",
     "evalue": "",
     "output_type": "error",
     "traceback": [
      "\u001b[0;31m---------------------------------------------------------------------------\u001b[0m",
      "\u001b[0;31mKeyboardInterrupt\u001b[0m                         Traceback (most recent call last)",
      "\u001b[0;32m<ipython-input-52-23a621a0ae27>\u001b[0m in \u001b[0;36m<module>\u001b[0;34m()\u001b[0m\n\u001b[1;32m      1\u001b[0m \u001b[0;32mfor\u001b[0m \u001b[0mi\u001b[0m \u001b[0;32min\u001b[0m \u001b[0mrange\u001b[0m\u001b[0;34m(\u001b[0m\u001b[0;36m10\u001b[0m\u001b[0;34m)\u001b[0m\u001b[0;34m:\u001b[0m\u001b[0;34m\u001b[0m\u001b[0m\n\u001b[0;32m----> 2\u001b[0;31m     \u001b[0mgenerate_text\u001b[0m\u001b[0;34m(\u001b[0m\u001b[0mcardtext_model\u001b[0m\u001b[0;34m,\u001b[0m \u001b[0;36m100\u001b[0m\u001b[0;34m,\u001b[0m \u001b[0mcardtext_ix_to_char\u001b[0m\u001b[0;34m)\u001b[0m\u001b[0;34m\u001b[0m\u001b[0m\n\u001b[0m\u001b[1;32m      3\u001b[0m     \u001b[0mprint\u001b[0m\u001b[0;34m(\u001b[0m\u001b[0;34m'\\n----\\n'\u001b[0m\u001b[0;34m)\u001b[0m\u001b[0;34m\u001b[0m\u001b[0m\n",
      "\u001b[0;32m<ipython-input-50-b776c2b27aa7>\u001b[0m in \u001b[0;36mgenerate_text\u001b[0;34m(model, length, ixtochars)\u001b[0m\n\u001b[1;32m      9\u001b[0m         \u001b[0mX\u001b[0m\u001b[0;34m[\u001b[0m\u001b[0;36m0\u001b[0m\u001b[0;34m,\u001b[0m \u001b[0mi\u001b[0m\u001b[0;34m,\u001b[0m \u001b[0;34m:\u001b[0m\u001b[0;34m]\u001b[0m\u001b[0;34m[\u001b[0m\u001b[0mix\u001b[0m\u001b[0;34m[\u001b[0m\u001b[0;34m-\u001b[0m\u001b[0;36m1\u001b[0m\u001b[0;34m]\u001b[0m\u001b[0;34m]\u001b[0m \u001b[0;34m=\u001b[0m \u001b[0;36m1\u001b[0m\u001b[0;34m\u001b[0m\u001b[0m\n\u001b[1;32m     10\u001b[0m         \u001b[0mprint\u001b[0m\u001b[0;34m(\u001b[0m\u001b[0mixtochars\u001b[0m\u001b[0;34m[\u001b[0m\u001b[0mix\u001b[0m\u001b[0;34m[\u001b[0m\u001b[0;34m-\u001b[0m\u001b[0;36m1\u001b[0m\u001b[0;34m]\u001b[0m\u001b[0;34m]\u001b[0m\u001b[0;34m,\u001b[0m \u001b[0mend\u001b[0m\u001b[0;34m=\u001b[0m\u001b[0;34m\"\"\u001b[0m\u001b[0;34m)\u001b[0m\u001b[0;34m\u001b[0m\u001b[0m\n\u001b[0;32m---> 11\u001b[0;31m         \u001b[0mix\u001b[0m \u001b[0;34m=\u001b[0m \u001b[0mnp\u001b[0m\u001b[0;34m.\u001b[0m\u001b[0margmax\u001b[0m\u001b[0;34m(\u001b[0m\u001b[0mmodel\u001b[0m\u001b[0;34m.\u001b[0m\u001b[0mpredict\u001b[0m\u001b[0;34m(\u001b[0m\u001b[0mX\u001b[0m\u001b[0;34m[\u001b[0m\u001b[0;34m:\u001b[0m\u001b[0;34m,\u001b[0m \u001b[0;34m:\u001b[0m\u001b[0mi\u001b[0m\u001b[0;34m+\u001b[0m\u001b[0;36m1\u001b[0m\u001b[0;34m,\u001b[0m \u001b[0;34m:\u001b[0m\u001b[0;34m]\u001b[0m\u001b[0;34m)\u001b[0m\u001b[0;34m[\u001b[0m\u001b[0;36m0\u001b[0m\u001b[0;34m]\u001b[0m\u001b[0;34m,\u001b[0m \u001b[0;36m1\u001b[0m\u001b[0;34m)\u001b[0m\u001b[0;34m\u001b[0m\u001b[0m\n\u001b[0m\u001b[1;32m     12\u001b[0m         \u001b[0mhele_tekst\u001b[0m\u001b[0;34m.\u001b[0m\u001b[0mappend\u001b[0m\u001b[0;34m(\u001b[0m\u001b[0mixtochars\u001b[0m\u001b[0;34m[\u001b[0m\u001b[0mix\u001b[0m\u001b[0;34m[\u001b[0m\u001b[0;34m-\u001b[0m\u001b[0;36m1\u001b[0m\u001b[0;34m]\u001b[0m\u001b[0;34m]\u001b[0m\u001b[0;34m)\u001b[0m\u001b[0;34m\u001b[0m\u001b[0m\n\u001b[1;32m     13\u001b[0m     \u001b[0;32mreturn\u001b[0m \u001b[0mhele_tekst\u001b[0m\u001b[0;34m\u001b[0m\u001b[0m\n",
      "\u001b[0;32m~/anaconda3/lib/python3.6/site-packages/keras/models.py\u001b[0m in \u001b[0;36mpredict\u001b[0;34m(self, x, batch_size, verbose)\u001b[0m\n\u001b[1;32m   1004\u001b[0m         \u001b[0;32mif\u001b[0m \u001b[0;32mnot\u001b[0m \u001b[0mself\u001b[0m\u001b[0;34m.\u001b[0m\u001b[0mbuilt\u001b[0m\u001b[0;34m:\u001b[0m\u001b[0;34m\u001b[0m\u001b[0m\n\u001b[1;32m   1005\u001b[0m             \u001b[0mself\u001b[0m\u001b[0;34m.\u001b[0m\u001b[0mbuild\u001b[0m\u001b[0;34m(\u001b[0m\u001b[0;34m)\u001b[0m\u001b[0;34m\u001b[0m\u001b[0m\n\u001b[0;32m-> 1006\u001b[0;31m         \u001b[0;32mreturn\u001b[0m \u001b[0mself\u001b[0m\u001b[0;34m.\u001b[0m\u001b[0mmodel\u001b[0m\u001b[0;34m.\u001b[0m\u001b[0mpredict\u001b[0m\u001b[0;34m(\u001b[0m\u001b[0mx\u001b[0m\u001b[0;34m,\u001b[0m \u001b[0mbatch_size\u001b[0m\u001b[0;34m=\u001b[0m\u001b[0mbatch_size\u001b[0m\u001b[0;34m,\u001b[0m \u001b[0mverbose\u001b[0m\u001b[0;34m=\u001b[0m\u001b[0mverbose\u001b[0m\u001b[0;34m)\u001b[0m\u001b[0;34m\u001b[0m\u001b[0m\n\u001b[0m\u001b[1;32m   1007\u001b[0m \u001b[0;34m\u001b[0m\u001b[0m\n\u001b[1;32m   1008\u001b[0m     \u001b[0;32mdef\u001b[0m \u001b[0mpredict_on_batch\u001b[0m\u001b[0;34m(\u001b[0m\u001b[0mself\u001b[0m\u001b[0;34m,\u001b[0m \u001b[0mx\u001b[0m\u001b[0;34m)\u001b[0m\u001b[0;34m:\u001b[0m\u001b[0;34m\u001b[0m\u001b[0m\n",
      "\u001b[0;32m~/anaconda3/lib/python3.6/site-packages/keras/engine/training.py\u001b[0m in \u001b[0;36mpredict\u001b[0;34m(self, x, batch_size, verbose, steps)\u001b[0m\n\u001b[1;32m   1770\u001b[0m         x = _standardize_input_data(x, self._feed_input_names,\n\u001b[1;32m   1771\u001b[0m                                     \u001b[0mself\u001b[0m\u001b[0;34m.\u001b[0m\u001b[0m_feed_input_shapes\u001b[0m\u001b[0;34m,\u001b[0m\u001b[0;34m\u001b[0m\u001b[0m\n\u001b[0;32m-> 1772\u001b[0;31m                                     check_batch_axis=False)\n\u001b[0m\u001b[1;32m   1773\u001b[0m         \u001b[0;32mif\u001b[0m \u001b[0mself\u001b[0m\u001b[0;34m.\u001b[0m\u001b[0mstateful\u001b[0m\u001b[0;34m:\u001b[0m\u001b[0;34m\u001b[0m\u001b[0m\n\u001b[1;32m   1774\u001b[0m             \u001b[0;32mif\u001b[0m \u001b[0mx\u001b[0m\u001b[0;34m[\u001b[0m\u001b[0;36m0\u001b[0m\u001b[0;34m]\u001b[0m\u001b[0;34m.\u001b[0m\u001b[0mshape\u001b[0m\u001b[0;34m[\u001b[0m\u001b[0;36m0\u001b[0m\u001b[0;34m]\u001b[0m \u001b[0;34m>\u001b[0m \u001b[0mbatch_size\u001b[0m \u001b[0;32mand\u001b[0m \u001b[0mx\u001b[0m\u001b[0;34m[\u001b[0m\u001b[0;36m0\u001b[0m\u001b[0;34m]\u001b[0m\u001b[0;34m.\u001b[0m\u001b[0mshape\u001b[0m\u001b[0;34m[\u001b[0m\u001b[0;36m0\u001b[0m\u001b[0;34m]\u001b[0m \u001b[0;34m%\u001b[0m \u001b[0mbatch_size\u001b[0m \u001b[0;34m!=\u001b[0m \u001b[0;36m0\u001b[0m\u001b[0;34m:\u001b[0m\u001b[0;34m\u001b[0m\u001b[0m\n",
      "\u001b[0;32m~/anaconda3/lib/python3.6/site-packages/keras/engine/training.py\u001b[0m in \u001b[0;36m_standardize_input_data\u001b[0;34m(data, names, shapes, check_batch_axis, exception_prefix)\u001b[0m\n\u001b[1;32m    140\u001b[0m                                  \u001b[0;34m' dimensions, but got array with shape '\u001b[0m \u001b[0;34m+\u001b[0m\u001b[0;34m\u001b[0m\u001b[0m\n\u001b[1;32m    141\u001b[0m                                  str(array.shape))\n\u001b[0;32m--> 142\u001b[0;31m             \u001b[0;32mfor\u001b[0m \u001b[0mj\u001b[0m\u001b[0;34m,\u001b[0m \u001b[0;34m(\u001b[0m\u001b[0mdim\u001b[0m\u001b[0;34m,\u001b[0m \u001b[0mref_dim\u001b[0m\u001b[0;34m)\u001b[0m \u001b[0;32min\u001b[0m \u001b[0menumerate\u001b[0m\u001b[0;34m(\u001b[0m\u001b[0mzip\u001b[0m\u001b[0;34m(\u001b[0m\u001b[0marray\u001b[0m\u001b[0;34m.\u001b[0m\u001b[0mshape\u001b[0m\u001b[0;34m,\u001b[0m \u001b[0mshapes\u001b[0m\u001b[0;34m[\u001b[0m\u001b[0mi\u001b[0m\u001b[0;34m]\u001b[0m\u001b[0;34m)\u001b[0m\u001b[0;34m)\u001b[0m\u001b[0;34m:\u001b[0m\u001b[0;34m\u001b[0m\u001b[0m\n\u001b[0m\u001b[1;32m    143\u001b[0m                 \u001b[0;32mif\u001b[0m \u001b[0;32mnot\u001b[0m \u001b[0mj\u001b[0m \u001b[0;32mand\u001b[0m \u001b[0;32mnot\u001b[0m \u001b[0mcheck_batch_axis\u001b[0m\u001b[0;34m:\u001b[0m\u001b[0;34m\u001b[0m\u001b[0m\n\u001b[1;32m    144\u001b[0m                     \u001b[0;31m# skip the first axis\u001b[0m\u001b[0;34m\u001b[0m\u001b[0;34m\u001b[0m\u001b[0m\n",
      "\u001b[0;31mKeyboardInterrupt\u001b[0m: "
     ]
    }
   ],
   "source": [
    "for i in range(10):\n",
    "    generate_text(cardtext_model, 100, cardtext_ix_to_char)\n",
    "    print('\\n----\\n')"
   ]
  },
  {
   "cell_type": "code",
   "execution_count": 61,
   "metadata": {},
   "outputs": [],
   "source": [
    "def remake_text(generated_text):\n",
    "    \n",
    "    joined = ''.join(generated_text)\n",
    "    \n",
    "    return joined"
   ]
  },
  {
   "cell_type": "code",
   "execution_count": 65,
   "metadata": {},
   "outputs": [],
   "source": [
    "generated_flavors = [remake_text(generate_text(model, 65)) for i in range(200)]"
   ]
  },
  {
   "cell_type": "code",
   "execution_count": 1,
   "metadata": {},
   "outputs": [],
   "source": [
    "import pickle"
   ]
  },
  {
   "cell_type": "code",
   "execution_count": 2,
   "metadata": {},
   "outputs": [],
   "source": [
    "with open('generated_flavors', 'rb') as fp:\n",
    "    genned_flavors = pickle.load(fp)"
   ]
  },
  {
   "cell_type": "code",
   "execution_count": 3,
   "metadata": {},
   "outputs": [
    {
     "data": {
      "text/plain": [
       "['blitz, staring at the spider-transportation-machineYeah, I think ',\n",
       " 'the Gnomish World Enlarger, gnomes are wary of size-changing inve',\n",
       " \"ther doesn't go on a ditch? What is a defendien fish, both explos\",\n",
       " ' in it.  He is definitely going to get his hearing checked.Also i',\n",
       " ' smiting now and again.This card makes something really damp.  Oh',\n",
       " ' a buncha totems together.Still angry that the Gadgetzan Rager Cl',\n",
       " \"  It's pretty insensitive.Also does weddings.The Grand Tournament\",\n",
       " 'THE TOULE BOOM!  WARNING THE FOON THE FOOD ME THE COSE!Frosty the',\n",
       " \" of kodos or windserpents, but they'll eat pretty much anything. \",\n",
       " \"ow with 100% more blast!You'd think you'd be able to control your\",\n",
       " \"  at's a spirite being when they make to his practers for the tim\",\n",
       " 'eryone from Doomsayer to Lorewalker Cho seems to ride one.Mannoro',\n",
       " \"e less doom.If you won't come to the tar pits, we'll bring them t\",\n",
       " 'add on your good each offence.  There are even rumon things!\"If y',\n",
       " \". You know what I mean? It's ok if you don't.Let's be honest. One\",\n",
       " 'ULL OF LAVA.I personally prefer some non-ancestral right-the-heck',\n",
       " \" Arena, and he averages 12 wins.When he's working out, he binds a\",\n",
       " \" of kodos or windserpents, but they'll eat pretty much anything. \",\n",
       " \"t's okay, he deserved it.It turns out cards DO grow on trees!Harr\",\n",
       " 'EGHT!Nood are not afreddwed his do it dod a good like a candle.Th',\n",
       " 'ords of previous ownerVirtually every member of the pro demon lob',\n",
       " 'THE TOULE BOOM!  WARNING THE FOON THE FOOD ME THE COSE!Frosty the',\n",
       " 'the Gnomish World Enlarger, gnomes are wary of size-changing inve',\n",
       " \"nown throughout the land as the Spooky-nomicon.Brrr, it's cold in\",\n",
       " 'the promise of an ice cream bar!Sure the extra protection is nice',\n",
       " \"T SCRATCH NOSE.For the times when a regular bazooka just isn't en\",\n",
       " \"  It's pretty insensitive.Also does weddings.The Grand Tournament\",\n",
       " \"ther doesn't go on a ditch? What is a defendien fish, both explos\",\n",
       " 'urious.You have chosen poorly.It is true that some druids are sav',\n",
       " 'ane who sells windows and shower doors.Makes shockingly good unag',\n",
       " \"  a the suce and everyone forgets about him.He's so hot right now\",\n",
       " \"ost this sign for a chance at a key.It's not his fault…  Someone \",\n",
       " 'o the fold feeds out of cheaking sturt into the insoriting.  You ',\n",
       " 'old prefer song drop. I think I love it, \"Meely\\'le rook.\" - Hamme',\n",
       " 'sed to be five Horsemen but one of them left because a job opened',\n",
       " 'he same as the previous generation but they slapped the word \"upg',\n",
       " 'i>is</i> art.Mass production of warbots was halted when it was di',\n",
       " ' a funn gore.  Just conversation.\"King\\'s Attacker\" is a lot more ',\n",
       " 'ozen is a swarming Handor. And Huffer. And Huffer. And Huffer.Med',\n",
       " ' To make candle. To keep candle. To hear lamentations of candle-t',\n",
       " 'ETTY good for Beardo since the population explosion.  And since t',\n",
       " 'blitz, staring at the spider-transportation-machineYeah, I think ',\n",
       " ' roll records.PREPARE PARTY SERVOS FOR IMMEDIATE DEPLOYMENT.As a ',\n",
       " \"e was younger, he was the town crybaby.Sure, they're ugly, but th\",\n",
       " '   Cet of Creaping gire of the Kirin Tor were casting Cubes of Co',\n",
       " \"u know, the whole Lich King thing.He's very good at retrieving ar\",\n",
       " 'et a job henching!He loves his job and would do it for free!  (Bu',\n",
       " 'nd Malygos.  And Nekros.Was actually a pretty nice guy before, yo',\n",
       " \" Arena, and he averages 12 wins.When he's working out, he binds a\",\n",
       " \" try Holy Water: Zero.C'mon Molten Giant!!Come to beautiful Ironf\",\n",
       " \". You know what I mean? It's ok if you don't.Let's be honest. One\",\n",
       " 'THE TOULE BOOM!  WARNING THE FOON THE FOOD ME THE COSE!Frosty the',\n",
       " \" of kodos or windserpents, but they'll eat pretty much anything. \",\n",
       " ' a buncha totems together.Still angry that the Gadgetzan Rager Cl',\n",
       " \"u know, the whole Lich King thing.He's very good at retrieving ar\",\n",
       " 'sed to be five Horsemen but one of them left because a job opened',\n",
       " ' smiting now and again.This card makes something really damp.  Oh',\n",
       " \"e was younger, he was the town crybaby.Sure, they're ugly, but th\",\n",
       " 'e \"The Hobbit\" and \"Grendel\".\"ME HAVE GOOD STATS FOR THE COST\"You',\n",
       " \" of kodos or windserpents, but they'll eat pretty much anything. \",\n",
       " 'k up some 10 cost minions? thx\"His new shampoo is really working!',\n",
       " \" anyways.It's a literal lava lamp!Doesn't like to adapt unless ot\",\n",
       " ' a feed on fears of a truetal misunderstood are supposed to go to',\n",
       " 'weeks*.\"He can never take a bath. Ewww.When a Water elemental and',\n",
       " ' a buncha totems together.Still angry that the Gadgetzan Rager Cl',\n",
       " 'bolt-shaped scar on your target.If a bright light shines on a pri',\n",
       " \" A fellow of infinite jest, of most excellent fancy!Sure, he'll r\",\n",
       " ' a buncha totems together.Still angry that the Gadgetzan Rager Cl',\n",
       " 'heels.\"The yetis of Chillwind Point are a source of both inspirat',\n",
       " 's a self-reducing prophecy.He loves a good yarn.\"It\\'s an herbivo ',\n",
       " '23“JJJ3JJJ”JJ3\\xa0WWzerUThe Frostwolves are sure when the one the su',\n",
       " 'ought with rocks.  Now she fights with ROCK!Contains 75% more fib',\n",
       " 'EFORE he was bitten by that ghoul.Astral kitty litter is surprisi',\n",
       " '3333\\xa0“(JJ((((((JJJ“WEANG OT deal long of a from him.\"It\\'s someone',\n",
       " 'oonfire, and never stop.\" - How to Be a Druid, Chapter 5, Section',\n",
       " 'ust nap under these trees. Wait... AAAAAHHH!\" - Blinkfizz, the Un',\n",
       " 'l soothe him.  Yeah...  Try that.A popular local alternative to b',\n",
       " 'heels.\"The yetis of Chillwind Point are a source of both inspirat',\n",
       " 'sed to be five Horsemen but one of them left because a job opened',\n",
       " 't go to school for healing, but we keep losing all the good heale',\n",
       " 'the Gnomish World Enlarger, gnomes are wary of size-changing inve',\n",
       " \"t's okay, he deserved it.It turns out cards DO grow on trees!Harr\",\n",
       " ' a dancer.  Punner of cater\".When is just too have are not great ',\n",
       " \" defended into first best!  And Muggs.  But it doesn't know you g\",\n",
       " ' a bundle of Fel Lotus.Quick! Before I drown! Let me sharpen your',\n",
       " \".Now that's a world champion cheesecake!Three Princes stand befor\",\n",
       " 'nd Malygos.  And Nekros.Was actually a pretty nice guy before, yo',\n",
       " 'oonfire, and never stop.\" - How to Be a Druid, Chapter 5, Section',\n",
       " 'eryone from Doomsayer to Lorewalker Cho seems to ride one.Mannoro',\n",
       " 'sed to be five Horsemen but one of them left because a job opened',\n",
       " 'ought with rocks.  Now she fights with ROCK!Contains 75% more fib',\n",
       " 'bolt-shaped scar on your target.If a bright light shines on a pri',\n",
       " \"ther doesn't go on a ditch? What is a defendien fish, both explos\",\n",
       " 'pedition over control of Alterac Valley.  Every attempt at peace-',\n",
       " '  and the put to storicaly and soul things on fire.  You might wa',\n",
       " 'ust nap under these trees. Wait... AAAAAHHH!\" - Blinkfizz, the Un',\n",
       " \" people get better.  That's why she hurts them in the first place\",\n",
       " ' a buncha totems together.Still angry that the Gadgetzan Rager Cl',\n",
       " ' roll records.PREPARE PARTY SERVOS FOR IMMEDIATE DEPLOYMENT.As a ',\n",
       " 'old prefer song drop. I think I love it, \"Meely\\'le rook.\" - Hamme',\n",
       " ' in it.  He is definitely going to get his hearing checked.Also i',\n",
       " \"  at's a spirite being when they make to his practers for the tim\",\n",
       " \"e was younger, he was the town crybaby.Sure, they're ugly, but th\",\n",
       " \"the Marshal - it's the law!Her favorite mixture is cola and lime.\",\n",
       " \" Arena, and he averages 12 wins.When he's working out, he binds a\",\n",
       " \"  It's pretty insensitive.Also does weddings.The Grand Tournament\",\n",
       " 'bolt-shaped scar on your target.If a bright light shines on a pri',\n",
       " 'ust nap under these trees. Wait... AAAAAHHH!\" - Blinkfizz, the Un',\n",
       " ' the dungeon and noticed a slain adventurer. In his final moments',\n",
       " 'EGHT!Nood are not afreddwed his do it dod a good like a candle.Th',\n",
       " '   Cet of Creaping gire of the Kirin Tor were casting Cubes of Co',\n",
       " 'i>is</i> art.Mass production of warbots was halted when it was di',\n",
       " 'l soothe him.  Yeah...  Try that.A popular local alternative to b',\n",
       " 'Can’t find any that fit!).When life gives you snow…\"Overheat thre',\n",
       " ' the dungeon and noticed a slain adventurer. In his final moments',\n",
       " \"e was younger, he was the town crybaby.Sure, they're ugly, but th\",\n",
       " 'eryone from Doomsayer to Lorewalker Cho seems to ride one.Mannoro',\n",
       " ' smiting now and again.This card makes something really damp.  Oh',\n",
       " 'e \"The Hobbit\" and \"Grendel\".\"ME HAVE GOOD STATS FOR THE COST\"You',\n",
       " \" Arena, and he averages 12 wins.When he's working out, he binds a\",\n",
       " ' a bundle of Fel Lotus.Quick! Before I drown! Let me sharpen your',\n",
       " 'SWEATERS! MORE SWEATERS!”They call him \"Blackwing\" because he\\'s a',\n",
       " 'ually anymore something?  The Argent was corden and and his first',\n",
       " \"u know, the whole Lich King thing.He's very good at retrieving ar\",\n",
       " ' a bundle of Fel Lotus.Quick! Before I drown! Let me sharpen your',\n",
       " 't go to school for healing, but we keep losing all the good heale',\n",
       " 'l soothe him.  Yeah...  Try that.A popular local alternative to b',\n",
       " \"uJees takes.He's gotten to himself in starting to have a might on\",\n",
       " 'ockle for just an everyone else be all \"Black Dragonflight, it\\'s ',\n",
       " '3333\\xa0“(JJ((((((JJJ“WEANG OT deal long of a from him.\"It\\'s someone',\n",
       " ' a feed on fears of a truetal misunderstood are supposed to go to',\n",
       " ' a bundle of Fel Lotus.Quick! Before I drown! Let me sharpen your',\n",
       " 'nd Malygos.  And Nekros.Was actually a pretty nice guy before, yo',\n",
       " 'bolt-shaped scar on your target.If a bright light shines on a pri',\n",
       " 'trike being worse than Fireball.This would be real handy if your ',\n",
       " 'weeks*.\"He can never take a bath. Ewww.When a Water elemental and',\n",
       " 'SWEATERS! MORE SWEATERS!”They call him \"Blackwing\" because he\\'s a',\n",
       " \"  It's pretty insensitive.Also does weddings.The Grand Tournament\",\n",
       " \"uJees takes.He's gotten to himself in starting to have a might on\",\n",
       " \"ow with 100% more blast!You'd think you'd be able to control your\",\n",
       " '3333\\xa0“(JJ((((((JJJ“WEANG OT deal long of a from him.\"It\\'s someone',\n",
       " ' he yelled. But all that came out was a deep grinding sound. He b',\n",
       " \"the Marshal - it's the law!Her favorite mixture is cola and lime.\",\n",
       " 'eryone from Doomsayer to Lorewalker Cho seems to ride one.Mannoro',\n",
       " 'i>is</i> art.Mass production of warbots was halted when it was di',\n",
       " 'the promise of an ice cream bar!Sure the extra protection is nice',\n",
       " \"  at's a spirite being when they make to his practers for the tim\",\n",
       " ' he yelled. But all that came out was a deep grinding sound. He b',\n",
       " '  It takes a long time to get blood stains out of leather armor.I',\n",
       " 'SWEATERS! MORE SWEATERS!”They call him \"Blackwing\" because he\\'s a',\n",
       " \" try Holy Water: Zero.C'mon Molten Giant!!Come to beautiful Ironf\",\n",
       " \"t's okay, he deserved it.It turns out cards DO grow on trees!Harr\",\n",
       " \"e was younger, he was the town crybaby.Sure, they're ugly, but th\",\n",
       " \"ETH, not like curved pirate blades.  That's a different kind of d\",\n",
       " 'ozen is a swarming Handor. And Huffer. And Huffer. And Huffer.Med',\n",
       " '  and the put to storicaly and soul things on fire.  You might wa',\n",
       " 'urious.You have chosen poorly.It is true that some druids are sav',\n",
       " 'bolt-shaped scar on your target.If a bright light shines on a pri',\n",
       " ' this thing.A pair of stout dwarves nearly averted the Cataclysm.',\n",
       " \"ow with 100% more blast!You'd think you'd be able to control your\",\n",
       " \" of kodos or windserpents, but they'll eat pretty much anything. \",\n",
       " \"  It's pretty insensitive.Also does weddings.The Grand Tournament\",\n",
       " '  and the put to storicaly and soul things on fire.  You might wa',\n",
       " 'SWEATERS! MORE SWEATERS!”They call him \"Blackwing\" because he\\'s a',\n",
       " ' a feed on fears of a truetal misunderstood are supposed to go to',\n",
       " 'he same as the previous generation but they slapped the word \"upg',\n",
       " \".Now that's a world champion cheesecake!Three Princes stand befor\",\n",
       " 'the promise of an ice cream bar!Sure the extra protection is nice',\n",
       " 'weeks*.\"He can never take a bath. Ewww.When a Water elemental and',\n",
       " 'EGHT!Nood are not afreddwed his do it dod a good like a candle.Th',\n",
       " ' he yelled. But all that came out was a deep grinding sound. He b',\n",
       " 'add on your good each offence.  There are even rumon things!\"If y',\n",
       " 'OOOOOOOOOOOM!!!!!\"Nominated as \"Spell Most Likely to Make Your Op',\n",
       " 'ually anymore something?  The Argent was corden and and his first',\n",
       " 'eryone from Doomsayer to Lorewalker Cho seems to ride one.Mannoro',\n",
       " 'oonfire, and never stop.\" - How to Be a Druid, Chapter 5, Section',\n",
       " 'k up some 10 cost minions? thx\"His new shampoo is really working!',\n",
       " \" people get better.  That's why she hurts them in the first place\",\n",
       " 'i>is</i> art.Mass production of warbots was halted when it was di',\n",
       " \"u know, the whole Lich King thing.He's very good at retrieving ar\",\n",
       " 'ords of previous ownerVirtually every member of the pro demon lob',\n",
       " \"t's okay, he deserved it.It turns out cards DO grow on trees!Harr\",\n",
       " 'SWEATERS! MORE SWEATERS!”They call him \"Blackwing\" because he\\'s a',\n",
       " ' he yelled. But all that came out was a deep grinding sound. He b',\n",
       " ' this thing.A pair of stout dwarves nearly averted the Cataclysm.',\n",
       " ' he yelled. But all that came out was a deep grinding sound. He b',\n",
       " 'heels.\"The yetis of Chillwind Point are a source of both inspirat',\n",
       " ' a feed on fears of a truetal misunderstood are supposed to go to',\n",
       " '  and the put to storicaly and soul things on fire.  You might wa',\n",
       " 'the Gnomish World Enlarger, gnomes are wary of size-changing inve',\n",
       " '  It takes a long time to get blood stains out of leather armor.I',\n",
       " 'ought with rocks.  Now she fights with ROCK!Contains 75% more fib',\n",
       " 'Can’t find any that fit!).When life gives you snow…\"Overheat thre',\n",
       " \"e was younger, he was the town crybaby.Sure, they're ugly, but th\",\n",
       " \"u know, the whole Lich King thing.He's very good at retrieving ar\",\n",
       " \"  at's a spirite being when they make to his practers for the tim\",\n",
       " \"T SCRATCH NOSE.For the times when a regular bazooka just isn't en\",\n",
       " 'ually anymore something?  The Argent was corden and and his first',\n",
       " 't staring contests.The Blood Knights get their holy powers from t',\n",
       " \"uJees takes.He's gotten to himself in starting to have a might on\"]"
      ]
     },
     "execution_count": 3,
     "metadata": {},
     "output_type": "execute_result"
    }
   ],
   "source": [
    "genned_flavors"
   ]
  },
  {
   "cell_type": "code",
   "execution_count": null,
   "metadata": {},
   "outputs": [],
   "source": []
  }
 ],
 "metadata": {
  "kernelspec": {
   "display_name": "Python 3",
   "language": "python",
   "name": "python3"
  },
  "language_info": {
   "codemirror_mode": {
    "name": "ipython",
    "version": 3
   },
   "file_extension": ".py",
   "mimetype": "text/x-python",
   "name": "python",
   "nbconvert_exporter": "python",
   "pygments_lexer": "ipython3",
   "version": "3.6.4"
  }
 },
 "nbformat": 4,
 "nbformat_minor": 2
}
